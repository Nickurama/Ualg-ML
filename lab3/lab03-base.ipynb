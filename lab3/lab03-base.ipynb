{
 "cells": [
  {
   "cell_type": "markdown",
   "id": "02972eec",
   "metadata": {},
   "source": [
    "### Lab 3: Multivariate and logistic regression"
   ]
  },
  {
   "cell_type": "markdown",
   "id": "c900a407-d671-4e14-a8f3-209c30c580d1",
   "metadata": {},
   "source": [
    "## 0. Import packages"
   ]
  },
  {
   "cell_type": "code",
   "execution_count": 17,
   "id": "2ee08d74-60d9-4274-b89a-9dabaeba395d",
   "metadata": {},
   "outputs": [],
   "source": [
    "import numpy as np\n",
    "from sklearn.linear_model import LinearRegression as LinearRegressionSKL\n",
    "import matplotlib.pyplot as plt\n",
    "import random\n",
    "import sys"
   ]
  },
  {
   "cell_type": "markdown",
   "id": "3963fb13-42be-4f62-9ef4-35108279d20a",
   "metadata": {},
   "source": [
    "## 1. Helper functions"
   ]
  },
  {
   "cell_type": "code",
   "execution_count": 2,
   "id": "0ab95a50-2b72-455e-a51d-6ed71880304b",
   "metadata": {},
   "outputs": [],
   "source": [
    "# Helper function to plot the single variable regression data\n",
    "def plot_single_regression(xf, yf, xt, yt, yp):\n",
    "    plt.scatter(xf, yf, color = \"blue\")\n",
    "    plt.scatter(xt, yt, color = 'red')\n",
    "    plt.plot(xt, yp, '--', color = 'green')\n",
    "    plt.xlabel('x')\n",
    "    plt.ylabel('y')\n",
    "    plt.show()"
   ]
  },
  {
   "cell_type": "code",
   "execution_count": 38,
   "id": "8b2fdd75-4b54-46a1-9ece-899129fff674",
   "metadata": {},
   "outputs": [],
   "source": [
    "# Helper function to plot the single variable regression data, for multiple solutions\n",
    "def plot_single_regression_v(xf, yf, xt, yt, yp):\n",
    "    plt.scatter(xf, yf, color = \"blue\")\n",
    "    plt.scatter(xt, yt, color = 'red')\n",
    "    for ypi in yp:\n",
    "        plt.plot(xt, ypi, '--', color = 'green')\n",
    "    plt.xlabel('x')\n",
    "    plt.ylabel('y')\n",
    "    plt.show()"
   ]
  },
  {
   "cell_type": "code",
   "execution_count": 43,
   "id": "a39efa86-3f49-42a7-89c5-f7643f031579",
   "metadata": {},
   "outputs": [],
   "source": [
    "# Helper function to plot the single variable data\n",
    "def plot_single_data(xf, yf, xt, yt):\n",
    "    plt.scatter(xf, yf, color = \"blue\")\n",
    "    plt.scatter(xt, yt, color = \"red\")\n",
    "    plt.xlabel('x')\n",
    "    plt.ylabel('y')\n",
    "    plt.show()"
   ]
  },
  {
   "cell_type": "code",
   "execution_count": 4,
   "id": "81c26300-f4f1-4605-85f0-a24348f8d7b9",
   "metadata": {},
   "outputs": [],
   "source": [
    "# Helper function to split dataset\n",
    "# PRE X.shape[0] == y.shape[0]\n",
    "def split_dataset(X, y, fit_percent=0.7):\n",
    "    \n",
    "    split_row = int(X.shape[0] * fit_percent)  \n",
    "    xf = X[0:split_row, :] \n",
    "    yf = y[0:split_row, :] \n",
    "    xt = X[split_row:, :]\n",
    "    yt = y[split_row:, :]\n",
    "    return xf, yf, xt, yt"
   ]
  },
  {
   "cell_type": "code",
   "execution_count": 5,
   "id": "da594bf4-14c8-47ee-8af5-f1f5fd702001",
   "metadata": {},
   "outputs": [],
   "source": [
    "# Helper function to add ones as a column to the left of the matrix\n",
    "def add_ones_left(X):\n",
    "    return np.column_stack((np.ones_like(X[:,0]), X))"
   ]
  },
  {
   "cell_type": "code",
   "execution_count": 6,
   "id": "a85d793a-33fb-408d-b731-2bfa5c7046a1",
   "metadata": {},
   "outputs": [],
   "source": [
    "# Helper function to split the target vector of the matrix (last column)\n",
    "# WARNING: only works when there is only one target per feature\n",
    "def split_features_target(data):\n",
    "    X = data[:, :-1]\n",
    "    y = data[:, data.shape[1] - 1].reshape(-1,1) # reshape to keep matrix-like format (2D instead of 1D)\n",
    "    return X, y"
   ]
  },
  {
   "cell_type": "code",
   "execution_count": 7,
   "id": "d2ec5335-bdc4-4073-b246-e9fd4a44023d",
   "metadata": {},
   "outputs": [],
   "source": [
    "# Helper function to split dataset randomly\n",
    "# PRE X.shape[0] == y.shape[0]\n",
    "def split_dataset_rng(X, y, fit_percent=0.7, seed=0):\n",
    "    rng = np.random.default_rng(seed) # 0 = random seed\n",
    "    data = np.column_stack((X, y))\n",
    "    rng.shuffle(data)\n",
    "\n",
    "    X, y = split_features_target(data)\n",
    "    return split_dataset(X, y, fit_percent)"
   ]
  },
  {
   "cell_type": "markdown",
   "id": "55ff02b4-053d-4213-ab1a-f501c50c2407",
   "metadata": {},
   "source": [
    "## 2. IModel hierarchy "
   ]
  },
  {
   "cell_type": "code",
   "execution_count": 8,
   "id": "92252b91-80ec-4a2e-ad4e-dbd65b2948a4",
   "metadata": {},
   "outputs": [],
   "source": [
    "from abc import ABC, abstractmethod\n",
    "from typing import *\n",
    "from numpy.typing import NDArray\n",
    "\n",
    "class IModel(ABC):\n",
    "\n",
    "    @abstractmethod\n",
    "    def fit(X : NDArray, y : NDArray) -> None:\n",
    "        '''\n",
    "        X is a 2D array with n features accross columns and m data points across rows.\n",
    "        y is a column vector with m labels, one for each data point in X.\n",
    "        '''\n",
    "        pass\n",
    "    \n",
    "    @abstractmethod\n",
    "    def predict(xp : NDArray) -> NDArray:\n",
    "        '''\n",
    "        xp is a column vector with k data points, each with n features.\n",
    "        returns a vector with k predicted labels, one for each data point in vector xp.\n",
    "        '''\n",
    "        pass\n",
    "\n",
    "    \n",
    "    @abstractmethod\n",
    "    def theta() -> [None | NDArray]:\n",
    "        '''\n",
    "        returns the vector theta with k coefficients after model trained.\n",
    "        before training returns None\n",
    "        '''\n",
    "        pass\n"
   ]
  },
  {
   "cell_type": "markdown",
   "id": "550b90d6-24fa-453a-869c-81daf5b2580d",
   "metadata": {},
   "source": [
    "## "
   ]
  },
  {
   "cell_type": "code",
   "execution_count": 9,
   "id": "4140079d-bdd6-4223-99c6-38ddcd27036e",
   "metadata": {},
   "outputs": [],
   "source": [
    "class Predictor (IModel):\n",
    "    '''\n",
    "    Implements the Normal equation model without regularization\n",
    "    '''\n",
    "\n",
    "    #Constructor\n",
    "    def __init__(self) -> None:\n",
    "        self._theta = None\n",
    "\n",
    "\n",
    "    #predict after training\n",
    "    def predict(self, xp : NDArray) -> NDArray:\n",
    "        if self._theta is None:\n",
    "            raise Exception('It is needed to fit model first')\n",
    "        else:    \n",
    "            # add a column of 1s \n",
    "            xp = self._addOnesLeft(xp)\n",
    "\n",
    "            # prediction\n",
    "            return xp.dot(self._theta)\n",
    "\n",
    "    \n",
    "    # return values for theta found after training or None\n",
    "    def theta(self) -> [None | NDArray]:\n",
    "        return self._theta\n",
    "\n",
    "    \n",
    "    # add a column of 1s at the left\n",
    "    def _addOnesLeft(self, X:NDArray) -> NDArray:\n",
    "        return np.column_stack((np.ones_like(X[:,0]), X))"
   ]
  },
  {
   "cell_type": "code",
   "execution_count": 10,
   "id": "8537e631-e884-4135-a4b0-62707dd47069",
   "metadata": {
    "editable": true,
    "slideshow": {
     "slide_type": ""
    },
    "tags": []
   },
   "outputs": [],
   "source": [
    "class NormalEQ (Predictor):\n",
    "    '''\n",
    "    Implements the Normal equation model without regularization\n",
    "    '''\n",
    "\n",
    "    #         T     -1    T\n",
    "    # Θ = ( X . X  )   . X  y\n",
    "    \n",
    "    #Fit with normal equation best theta\n",
    "    def fit(self, X : NDArray, y : NDArray) -> None:\n",
    "        # add a column of 1s\n",
    "        X = super()._addOnesLeft(X)\n",
    "        \n",
    "        # compute normal equation\n",
    "        #pinv calculates pseudo inverse\n",
    "        #useful if there is linear dependent columns\n",
    "        #eg. one feature is the price in Euros and another feature is the price in Pounds\n",
    "        self._theta = np.linalg.pinv(X.T.dot(X)).dot(X.T).dot(y)\n"
   ]
  },
  {
   "cell_type": "code",
   "execution_count": 11,
   "id": "0269782c-504e-49c4-857e-bfd8b827586e",
   "metadata": {},
   "outputs": [],
   "source": [
    "class LinearRegression (NormalEQ):\n",
    "    '''\n",
    "    Implements multivariate linear regression without regularization, based on the Normal equation model\n",
    "\n",
    "    just an alias for class NormalEQ\n",
    "    '''\n",
    "    pass"
   ]
  },
  {
   "cell_type": "code",
   "execution_count": 12,
   "id": "cdcb6d9b-b9fa-4014-a2a4-dc082a4b9958",
   "metadata": {
    "editable": true,
    "slideshow": {
     "slide_type": ""
    },
    "tags": []
   },
   "outputs": [],
   "source": [
    "class NormalEQReg (Predictor):\n",
    "    '''\n",
    "    Implements the Normal equation model with regularization\n",
    "    '''\n",
    "\n",
    "    def __init__(self, l:int) -> None:\n",
    "        if l < 0:\n",
    "            raise Exception('lambda must be >= 0')\n",
    "        self._lambda = l\n",
    "        super().__init__()\n",
    "\n",
    "    \n",
    "    #https://dev.to/_s_w_a_y_a_m_/linear-regression-using-normal-equation-21co\n",
    "    #\n",
    "    #         T          -1     T\n",
    "    # Θ = ( X . X  + λ R)   . X  y   \n",
    "    #\n",
    "    # Where R is an Identity matrix where λ(0,0) = 0\n",
    "    \n",
    "    #Fit with normal equation best theta\n",
    "    def fit(self, X : NDArray, y : NDArray) -> None:\n",
    "           \n",
    "        # add a column of 1s\n",
    "        X = super()._addOnesLeft(X)\n",
    "\n",
    "        # setup regularization\n",
    "        R = np.identity(X.shape[1])\n",
    "        R[0,0] = 0\n",
    "        \n",
    "        # compute normal equation\n",
    "        #pinv calculates pseudo inverse\n",
    "        #useful if there is linear dependent columns\n",
    "        #eg. one feature is the price in Euros and another feature is the price in Pounds\n",
    "        projection_y = (X.T).dot(y)\n",
    "        cov          = np.linalg.pinv(X.T.dot(X) + np.multiply(self._lambda, R)) \n",
    "        self._theta  = cov.dot(projection_y)"
   ]
  },
  {
   "cell_type": "markdown",
   "id": "40f09512-0349-4d6b-926f-c0ee045d1149",
   "metadata": {},
   "source": [
    "## 3. Quiz solution"
   ]
  },
  {
   "cell_type": "markdown",
   "id": "8d76da17-b0c4-4ad1-85e1-f98d9516dde8",
   "metadata": {},
   "source": [
    "---\n",
    "1.\tExpress the gradient descent update with regularization in vector form:\n",
    "\n"
   ]
  },
  {
   "cell_type": "markdown",
   "id": "f53a90c6-1cab-4f9d-9a9e-914b595ba5b4",
   "metadata": {},
   "source": [
    "starting from the gradient descent update $ \\textbf{without} $ regularization, we have\n",
    "\n",
    "$$\n",
    "\\boldsymbol{\\theta} = \\boldsymbol{\\theta} - \\alpha \\frac{1}{m} \\mathbf{X}^T\\mathbf{r}\n",
    "$$\n",
    "\n",
    "The only difference should be in the $ \\boldsymbol{\\theta} $ term, in which it should be applied the regularization.\n",
    "To achieve this, we can firstly abstract the regularization, replacing it with $ \\textbf{s} $:\n",
    "\n",
    "$$\n",
    "\\boldsymbol{\\theta} = \\boldsymbol{\\theta}s - \\alpha \\frac{1}{m} \\mathbf{X}^T\\mathbf{r}\n",
    "$$\n",
    "\n",
    "Notice also that the expression $ (1 - \\alpha \\frac{\\lambda}{m})  $ will be constant for a given update of thetas, at which it can be said it is a scalar. This means that $ \\boldsymbol{\\theta} $ can be simply expressed by\n",
    "\n",
    "$$\n",
    "s = (1 - \\alpha \\frac{\\lambda}{m})\n",
    "$$\n",
    "\n",
    "and as such, the final expression, replacing $ s $ would be\n",
    "\n",
    "$$\n",
    "\\boldsymbol{\\theta} = (1 - \\alpha \\frac{\\lambda}{m})\\boldsymbol{\\theta} - \\alpha \\frac{1}{m} \\mathbf{X}^T\\mathbf{r}\n",
    "$$"
   ]
  },
  {
   "cell_type": "markdown",
   "id": "5fb07126-7a77-4cbf-b310-685581b92753",
   "metadata": {},
   "source": [
    "---\n",
    "2.\tLoad the dataset in the companion file $\\textbf{demodataset.csv}$. Shuffle it and divide it into disjoint\n",
    "training and testing datasets.\n"
   ]
  },
  {
   "cell_type": "code",
   "execution_count": 105,
   "id": "7586ad6c-3c50-4b24-bca8-ce069c2fef7b",
   "metadata": {},
   "outputs": [
    {
     "data": {
      "image/png": "[encoded data removed]",
      "text/plain": [
       "<Figure size 640x480 with 1 Axes>"
      ]
     },
     "metadata": {},
     "output_type": "display_data"
    }
   ],
   "source": [
    "demo_dataset = np.loadtxt(\"demodataset.csv\", delimiter=\",\")\n",
    "seed = random.randint(0, sys.maxsize)\n",
    "\n",
    "X, y = split_features_target(demo_dataset)\n",
    "# X = add_ones_left(X)\n",
    "xf, yf, xt, yt = split_dataset_rng(X, y, 0.7, seed)\n",
    "\n",
    "training_dataset = np.column_stack((xf, yf))\n",
    "testing_dataset = np.column_stack((xt, yt))\n",
    "\n",
    "plot_single_data(xf, yf, xt, yt)"
   ]
  },
  {
   "cell_type": "markdown",
   "id": "10971741-0a46-436c-a77c-7afd01f86408",
   "metadata": {},
   "source": [
    "---\n",
    "3. a) Implement a linear (in the parameters) basis function regression model using the Gradient descent model with regularization, with a new $ \\textbf{Classifier} $ subclass named $\\textbf{GradDescReg}$.\n"
   ]
  },
  {
   "cell_type": "code",
   "execution_count": 98,
   "id": "8a364564-53c1-4e7d-9623-afcbbe2392d5",
   "metadata": {},
   "outputs": [],
   "source": [
    "class Classifier (Predictor):\n",
    "    '''\n",
    "    Implements Gradient Descent with regularization\n",
    "    '''\n",
    "    \n",
    "    def __init__(self) -> None:\n",
    "        super().__init__()"
   ]
  },
  {
   "cell_type": "code",
   "execution_count": 119,
   "id": "d4ae79d9-cedc-41f9-9476-339534cbd83c",
   "metadata": {},
   "outputs": [],
   "source": [
    "class GradDescReg (Classifier):\n",
    "    '''\n",
    "    Implements Gradient Descent with regularization\n",
    "    '''\n",
    "\n",
    "    # constructor\n",
    "    def __init__(self, max_iters: int = 1000, min_conv_diff: float = 10**-8, learning_rate: int = 0.001, reg_lambda: int = 0.0) -> None:\n",
    "        self._max_iters = max_iters\n",
    "        self._min_conv_diff = min_conv_diff\n",
    "        self._alpha = learning_rate\n",
    "        self._lambda = reg_lambda\n",
    "        super().__init__()\n",
    "\n",
    "    # applies gradient descent with regularization\n",
    "    def fit(self, X : NDArray, y : NDArray) -> None:\n",
    "        # add a column of 1s\n",
    "        X = super()._addOnesLeft(X)\n",
    "\n",
    "        # initialize weights\n",
    "        self._theta = np.zeros(X.shape[1])\n",
    "\n",
    "        # setup learning rate\n",
    "        lr = self._alpha / X.shape[0]\n",
    "        \n",
    "        # setup regularization\n",
    "        reg = 1 - self._lambda * lr\n",
    "\n",
    "        # setup residuals\n",
    "        h = self.predict(X)\n",
    "        r = h - y\n",
    "        \n",
    "        epoch = 0\n",
    "        conv_diff = self._min_conv_diff + 1\n",
    "        while (epoch < self._max_iters and conv_diff > self._min_conv_diff):\n",
    "            # apply gradient descent with regularization (1 epoch)\n",
    "            new_theta = reg * self._theta - lr * (X.T @ r)\n",
    "\n",
    "            # checks the norm of the difference in thetas and updates theta\n",
    "            conv_diff = np.linalg.norm(new_theta - self._theta)\n",
    "            self._theta = new_theta\n",
    "            \n",
    "            epoch += 1"
   ]
  }
 ],
 "metadata": {
  "kernelspec": {
   "display_name": "Python 3 (ipykernel)",
   "language": "python",
   "name": "python3"
  },
  "language_info": {
   "codemirror_mode": {
    "name": "ipython",
    "version": 3
   },
   "file_extension": ".py",
   "mimetype": "text/x-python",
   "name": "python",
   "nbconvert_exporter": "python",
   "pygments_lexer": "ipython3",
   "version": "3.13.7"
  }
 },
 "nbformat": 4,
 "nbformat_minor": 5
}
