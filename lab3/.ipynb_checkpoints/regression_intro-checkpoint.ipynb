{
 "cells": [
  {
   "cell_type": "markdown",
   "id": "02972eec",
   "metadata": {},
   "source": [
    "### Brief tutorial on linear regression with Python"
   ]
  },
  {
   "cell_type": "markdown",
   "id": "10c25e65",
   "metadata": {},
   "source": [
    "This notebook is a brief tutorial on the implementation of linear regression with Python. \\\n",
    "Topics covered:\n",
    "\n",
    "- read to a Pandas data frame a dataset stored in the local drive file as comma separated value (csv) format.\n",
    "\n",
    "- read to a Numpy arrays a dataset stored in the local drive file as comma separated value (csv) format.\n",
    "\n",
    "- display the values in the dataset\n",
    "\n",
    "- plot a chart representing the dataset\n",
    "\n",
    "- Use some markdown math notation\n",
    "\n",
    "- implementation of linear regression: \\\n",
    "  i) translate math expressions to plain Python \\\n",
    "  ii) translate math expressions in vector form to Python and Numpy \n",
    "\n",
    "---\n",
    "\n",
    "Markdown math symbols:\n",
    "\n",
    "https://www.upyesp.org/posts/makrdown-vscode-math-notation/\n",
    "\n",
    "---"
   ]
  },
  {
   "cell_type": "markdown",
   "id": "fdda23db",
   "metadata": {},
   "source": [
    "First we need to import the required libraries"
   ]
  },
  {
   "cell_type": "code",
   "execution_count": 1,
   "id": "38082d75",
   "metadata": {},
   "outputs": [],
   "source": [
    "import numpy as np\n",
    "import pandas as pd\n",
    "import matplotlib.pyplot as plt"
   ]
  },
  {
   "cell_type": "markdown",
   "id": "f3631d4d-597b-4e64-b217-f3f79bd33f74",
   "metadata": {},
   "source": [
    "The dataset can be read into a Pandas DataFrame or a NumPy array. Below is shown how to do it both ways. However, throughout the notebook, only NumPy arrays are used.\n",
    "\n",
    "Load the data set in the companion **demodataset.csv** file with pandas:"
   ]
  },
  {
   "cell_type": "code",
   "execution_count": 2,
   "id": "b76068ac-fa6e-4825-b19e-c3f55544ec91",
   "metadata": {},
   "outputs": [],
   "source": [
    "df = pd.read_csv(\"demodataset.csv\", header=None) # Do not assume first row as column labels"
   ]
  },
  {
   "cell_type": "markdown",
   "id": "e2b3152f",
   "metadata": {},
   "source": [
    "Load the data set in the companion **demodataset.csv** file with numpy:"
   ]
  },
  {
   "cell_type": "code",
   "execution_count": 3,
   "id": "9e1e4751",
   "metadata": {},
   "outputs": [],
   "source": [
    "data = np.loadtxt(\"demodataset.csv\", delimiter=\",\")"
   ]
  },
  {
   "cell_type": "markdown",
   "id": "c11ae1e1",
   "metadata": {},
   "source": [
    "We can use Python **print()** function to display the dataset values"
   ]
  },
  {
   "cell_type": "code",
   "execution_count": 4,
   "id": "dee37fda",
   "metadata": {
    "scrolled": true
   },
   "outputs": [
    {
     "name": "stdout",
     "output_type": "stream",
     "text": [
      "m = 100\n",
      "\n",
      "[[-8.78000e-01 -3.22080e+01]\n",
      " [ 1.36000e+00  4.91780e+01]\n",
      " [ 1.64000e+00  6.33840e+01]\n",
      " [ 5.42000e-01  5.09550e+01]\n",
      " [ 8.25000e-01  7.64030e+01]\n",
      " [-5.96000e-01 -9.07150e+01]\n",
      " [-5.60000e-02  3.02390e+01]\n",
      " [-1.32000e-01 -2.97050e+01]\n",
      " [-2.43500e+00 -1.39298e+02]\n",
      " [-4.04000e-01 -1.04830e+01]\n",
      " [ 3.82000e-01  3.48500e+01]\n",
      " [ 1.36700e+00  1.03150e+02]\n",
      " [-7.48000e-01 -2.55260e+01]\n",
      " [-3.82000e-01  7.50600e+00]\n",
      " [ 8.42000e-01  5.22440e+01]\n",
      " [-7.70000e-02  7.08100e+00]\n",
      " [ 4.33000e-01  7.63250e+01]\n",
      " [-2.17000e-01 -5.21700e+01]\n",
      " [ 1.46800e+00  7.16200e+01]\n",
      " [ 1.13000e-01 -2.39000e-01]\n",
      " [ 1.73100e+00  1.73630e+01]\n",
      " [-3.36000e-01 -1.94300e+01]\n",
      " [-1.09900e+00 -3.97120e+01]\n",
      " [-8.42000e-01 -7.12000e+01]\n",
      " [ 5.66000e-01  2.59360e+01]\n",
      " [-1.05800e+00 -6.51850e+01]\n",
      " [ 6.95000e-01  7.98900e+00]\n",
      " [ 5.39000e-01  2.55390e+01]\n",
      " [ 5.02000e-01  5.53640e+01]\n",
      " [-1.43900e+00 -8.34900e+01]\n",
      " [-1.89000e-01 -2.15500e+00]\n",
      " [-7.40000e-02  4.71100e+00]\n",
      " [-1.79300e+00 -1.99260e+01]\n",
      " [ 2.23100e+00  1.05280e+02]\n",
      " [ 4.20000e-02 -2.51240e+01]\n",
      " [ 1.17400e+00  9.14890e+01]\n",
      " [-1.38500e+00 -7.13340e+01]\n",
      " [ 2.16000e-01  7.59300e+00]\n",
      " [-9.10000e-02  1.12800e+00]\n",
      " [ 1.27800e+00  7.40530e+01]\n",
      " [-2.13600e+00 -1.19696e+02]\n",
      " [-2.36000e-01 -6.71100e+00]\n",
      " [-1.85900e+00 -7.81320e+01]\n",
      " [ 3.26000e-01  4.69000e-01]\n",
      " [ 0.00000e+00 -2.05700e+00]\n",
      " [-3.76000e-01 -2.62590e+01]\n",
      " [ 1.04100e+00  9.74580e+01]\n",
      " [-3.39000e-01 -3.60530e+01]\n",
      " [-6.78000e-01 -1.69690e+01]\n",
      " [ 1.21800e+00  4.86420e+01]\n",
      " [-1.24500e+00 -5.12920e+01]\n",
      " [-8.29000e-01 -2.14100e+01]\n",
      " [-4.19000e-01 -1.66980e+01]\n",
      " [ 3.80000e-01  4.12860e+01]\n",
      " [-1.86800e+00 -1.01572e+02]\n",
      " [ 1.58400e+00  1.10486e+02]\n",
      " [ 6.11000e-01  3.17140e+01]\n",
      " [ 1.00000e+00  6.13290e+01]\n",
      " [-9.09000e-01 -5.59640e+01]\n",
      " [-4.00000e-02 -2.91390e+01]\n",
      " [-1.90000e-02  3.44990e+01]\n",
      " [-1.42100e+00 -1.04181e+02]\n",
      " [ 3.51000e-01 -6.90400e+00]\n",
      " [-9.89000e-01 -4.29080e+01]\n",
      " [ 4.60000e-02 -2.61200e+00]\n",
      " [-3.81000e-01  2.29040e+01]\n",
      " [ 7.35000e-01  1.01816e+02]\n",
      " [-6.38000e-01 -4.11950e+01]\n",
      " [-2.65900e+00 -1.69618e+02]\n",
      " [-4.17000e-01 -1.26080e+01]\n",
      " [ 2.57000e-01  4.93110e+01]\n",
      " [ 3.70000e-01  8.19040e+01]\n",
      " [-6.35000e-01 -4.63420e+01]\n",
      " [ 4.80000e-02 -3.40440e+01]\n",
      " [-2.34400e+00 -1.46528e+02]\n",
      " [ 5.08000e-01  6.32530e+01]\n",
      " [-6.53000e-01 -8.52480e+01]\n",
      " [-8.44000e-01 -9.65120e+01]\n",
      " [-4.62000e-01 -3.27800e+01]\n",
      " [ 2.04000e-01  4.16920e+01]\n",
      " [ 5.03000e-01 -5.85000e-01]\n",
      " [-2.69000e-01  3.26010e+01]\n",
      " [-1.11800e+00 -8.89940e+01]\n",
      " [ 5.24000e-01  3.22440e+01]\n",
      " [ 8.80000e-02  2.70920e+01]\n",
      " [ 5.51000e-01 -9.63100e+00]\n",
      " [-2.03300e+00 -1.41774e+02]\n",
      " [-3.14000e-01 -2.95820e+01]\n",
      " [ 1.17500e+00  7.66070e+01]\n",
      " [ 6.60000e-02  9.21600e+00]\n",
      " [ 1.24800e+00  1.86740e+01]\n",
      " [-1.18800e+00 -8.01370e+01]\n",
      " [ 1.40700e+00  1.15774e+02]\n",
      " [-1.56000e-01 -3.43230e+01]\n",
      " [ 2.29200e+00  1.66740e+02]\n",
      " [-1.73800e+00 -1.27151e+02]\n",
      " [-2.04000e+00 -1.03446e+02]\n",
      " [ 7.71000e-01  5.66900e+00]\n",
      " [ 9.00000e-03 -3.67930e+01]\n",
      " [-1.53000e-01 -5.78900e+00]]\n"
     ]
    }
   ],
   "source": [
    "print('m = {0:d}\\n'.format(len(data)))\n",
    "print(data)"
   ]
  },
  {
   "cell_type": "markdown",
   "id": "01ef2064-e580-44bb-97ed-e0b2961bc400",
   "metadata": {},
   "source": [
    "---\n",
    "Or we can also let Jupyter format the output. Just write the identifier of the variable to display it in the last line of the cell"
   ]
  },
  {
   "cell_type": "code",
   "execution_count": 5,
   "id": "430023d9",
   "metadata": {
    "scrolled": true
   },
   "outputs": [
    {
     "data": {
      "text/plain": [
       "array([[-8.78000e-01, -3.22080e+01],\n",
       "       [ 1.36000e+00,  4.91780e+01],\n",
       "       [ 1.64000e+00,  6.33840e+01],\n",
       "       [ 5.42000e-01,  5.09550e+01],\n",
       "       [ 8.25000e-01,  7.64030e+01],\n",
       "       [-5.96000e-01, -9.07150e+01],\n",
       "       [-5.60000e-02,  3.02390e+01],\n",
       "       [-1.32000e-01, -2.97050e+01],\n",
       "       [-2.43500e+00, -1.39298e+02],\n",
       "       [-4.04000e-01, -1.04830e+01],\n",
       "       [ 3.82000e-01,  3.48500e+01],\n",
       "       [ 1.36700e+00,  1.03150e+02],\n",
       "       [-7.48000e-01, -2.55260e+01],\n",
       "       [-3.82000e-01,  7.50600e+00],\n",
       "       [ 8.42000e-01,  5.22440e+01],\n",
       "       [-7.70000e-02,  7.08100e+00],\n",
       "       [ 4.33000e-01,  7.63250e+01],\n",
       "       [-2.17000e-01, -5.21700e+01],\n",
       "       [ 1.46800e+00,  7.16200e+01],\n",
       "       [ 1.13000e-01, -2.39000e-01],\n",
       "       [ 1.73100e+00,  1.73630e+01],\n",
       "       [-3.36000e-01, -1.94300e+01],\n",
       "       [-1.09900e+00, -3.97120e+01],\n",
       "       [-8.42000e-01, -7.12000e+01],\n",
       "       [ 5.66000e-01,  2.59360e+01],\n",
       "       [-1.05800e+00, -6.51850e+01],\n",
       "       [ 6.95000e-01,  7.98900e+00],\n",
       "       [ 5.39000e-01,  2.55390e+01],\n",
       "       [ 5.02000e-01,  5.53640e+01],\n",
       "       [-1.43900e+00, -8.34900e+01],\n",
       "       [-1.89000e-01, -2.15500e+00],\n",
       "       [-7.40000e-02,  4.71100e+00],\n",
       "       [-1.79300e+00, -1.99260e+01],\n",
       "       [ 2.23100e+00,  1.05280e+02],\n",
       "       [ 4.20000e-02, -2.51240e+01],\n",
       "       [ 1.17400e+00,  9.14890e+01],\n",
       "       [-1.38500e+00, -7.13340e+01],\n",
       "       [ 2.16000e-01,  7.59300e+00],\n",
       "       [-9.10000e-02,  1.12800e+00],\n",
       "       [ 1.27800e+00,  7.40530e+01],\n",
       "       [-2.13600e+00, -1.19696e+02],\n",
       "       [-2.36000e-01, -6.71100e+00],\n",
       "       [-1.85900e+00, -7.81320e+01],\n",
       "       [ 3.26000e-01,  4.69000e-01],\n",
       "       [ 0.00000e+00, -2.05700e+00],\n",
       "       [-3.76000e-01, -2.62590e+01],\n",
       "       [ 1.04100e+00,  9.74580e+01],\n",
       "       [-3.39000e-01, -3.60530e+01],\n",
       "       [-6.78000e-01, -1.69690e+01],\n",
       "       [ 1.21800e+00,  4.86420e+01],\n",
       "       [-1.24500e+00, -5.12920e+01],\n",
       "       [-8.29000e-01, -2.14100e+01],\n",
       "       [-4.19000e-01, -1.66980e+01],\n",
       "       [ 3.80000e-01,  4.12860e+01],\n",
       "       [-1.86800e+00, -1.01572e+02],\n",
       "       [ 1.58400e+00,  1.10486e+02],\n",
       "       [ 6.11000e-01,  3.17140e+01],\n",
       "       [ 1.00000e+00,  6.13290e+01],\n",
       "       [-9.09000e-01, -5.59640e+01],\n",
       "       [-4.00000e-02, -2.91390e+01],\n",
       "       [-1.90000e-02,  3.44990e+01],\n",
       "       [-1.42100e+00, -1.04181e+02],\n",
       "       [ 3.51000e-01, -6.90400e+00],\n",
       "       [-9.89000e-01, -4.29080e+01],\n",
       "       [ 4.60000e-02, -2.61200e+00],\n",
       "       [-3.81000e-01,  2.29040e+01],\n",
       "       [ 7.35000e-01,  1.01816e+02],\n",
       "       [-6.38000e-01, -4.11950e+01],\n",
       "       [-2.65900e+00, -1.69618e+02],\n",
       "       [-4.17000e-01, -1.26080e+01],\n",
       "       [ 2.57000e-01,  4.93110e+01],\n",
       "       [ 3.70000e-01,  8.19040e+01],\n",
       "       [-6.35000e-01, -4.63420e+01],\n",
       "       [ 4.80000e-02, -3.40440e+01],\n",
       "       [-2.34400e+00, -1.46528e+02],\n",
       "       [ 5.08000e-01,  6.32530e+01],\n",
       "       [-6.53000e-01, -8.52480e+01],\n",
       "       [-8.44000e-01, -9.65120e+01],\n",
       "       [-4.62000e-01, -3.27800e+01],\n",
       "       [ 2.04000e-01,  4.16920e+01],\n",
       "       [ 5.03000e-01, -5.85000e-01],\n",
       "       [-2.69000e-01,  3.26010e+01],\n",
       "       [-1.11800e+00, -8.89940e+01],\n",
       "       [ 5.24000e-01,  3.22440e+01],\n",
       "       [ 8.80000e-02,  2.70920e+01],\n",
       "       [ 5.51000e-01, -9.63100e+00],\n",
       "       [-2.03300e+00, -1.41774e+02],\n",
       "       [-3.14000e-01, -2.95820e+01],\n",
       "       [ 1.17500e+00,  7.66070e+01],\n",
       "       [ 6.60000e-02,  9.21600e+00],\n",
       "       [ 1.24800e+00,  1.86740e+01],\n",
       "       [-1.18800e+00, -8.01370e+01],\n",
       "       [ 1.40700e+00,  1.15774e+02],\n",
       "       [-1.56000e-01, -3.43230e+01],\n",
       "       [ 2.29200e+00,  1.66740e+02],\n",
       "       [-1.73800e+00, -1.27151e+02],\n",
       "       [-2.04000e+00, -1.03446e+02],\n",
       "       [ 7.71000e-01,  5.66900e+00],\n",
       "       [ 9.00000e-03, -3.67930e+01],\n",
       "       [-1.53000e-01, -5.78900e+00]])"
      ]
     },
     "execution_count": 5,
     "metadata": {},
     "output_type": "execute_result"
    }
   ],
   "source": [
    "data"
   ]
  },
  {
   "cell_type": "markdown",
   "id": "e7148498-2f8e-47c8-893a-2e9caae24989",
   "metadata": {},
   "source": [
    "---\n",
    "Extract the first column in the data set to vector **x** and the second column to vector **y**.   \n",
    "   \n",
    "   \n",
    "Plot a figure showing the data set as:&nbsp;&nbsp;&nbsp;&nbsp;&nbsp;&nbsp;{(x<sup>(i)</sup>,y<sup>(i)</sup>) | i=1,…, m }\n"
   ]
  },
  {
   "cell_type": "code",
   "execution_count": 6,
   "id": "03613673",
   "metadata": {
    "editable": true,
    "slideshow": {
     "slide_type": ""
    },
    "tags": []
   },
   "outputs": [
    {
     "data": {
      "image/png": "[encoded data removed]",
      "text/plain": [
       "<Figure size 640x480 with 1 Axes>"
      ]
     },
     "metadata": {},
     "output_type": "display_data"
    }
   ],
   "source": [
    "x=data[:,0] # x is the first  column in the data set\n",
    "y=data[:,1] # y is the second column in the data set\n",
    "\n",
    "plt.plot(x, y, \"x\", color = \"blue\")\n",
    "plt.show()"
   ]
  },
  {
   "cell_type": "markdown",
   "id": "70044553-d843-4a97-97b5-012b455d3848",
   "metadata": {},
   "source": [
    "---\n",
    "Math expressions can be translated to plain Python code, however Python is an interpreted language, which means that it is much slower than compiled languages like C/C++, Cuda, Rust, etc. \n",
    "\n",
    "Thought when working with small datasets with tens or hundreds of data points, the algorithms implemented with plain Python run in a flash, for datasets with millions of data points, plain Python would take ages. \n",
    "\n",
    "For this, Python has several frameworks implemented over compiled languages like Numpy, Keras, Tensorflow, PyTorch, that are optimized to run very fast on multicore CPUs, GPUs and TPUs."
   ]
  },
  {
   "cell_type": "markdown",
   "id": "c7bbdbd3-db8b-4750-b610-bc4a6f26dfac",
   "metadata": {},
   "source": [
    "Below it is shown how to compute linear regression parameters, $\\theta_0^*$ and $\\theta_1^*$, from scratch:\n",
    "\n",
    "$$\n",
    "\\begin{split}\n",
    "\\theta_0 &= \\bar y - \\theta_1 \\bar x\\\\\n",
    "\\\\\n",
    "\\theta_1 &= \\frac {SS_{xy}}{SS_{xx}}=\n",
    "\\frac\n",
    "{ \\sum_{i=1}^{m} \\left[\\left(x_i - \\bar {x}\\right) \\left(y_i - \\bar {y}\\right) \\right]}\n",
    "{ \\sum_{i=1}^{m} \\left( x_i - \\bar x \\right)^2 }\n",
    "\\end{split}\n",
    "$$\n",
    "\n",
    "with:\n",
    "- plain Python \n",
    "- rewrite the expression in vector notation and implement it with Python + Numpy."
   ]
  },
  {
   "cell_type": "markdown",
   "id": "ed488129-c6ba-413b-8e38-e10c2c6bd985",
   "metadata": {},
   "source": [
    "---\n",
    "With plain Python, the sum and means can be implemented with **for** loops:"
   ]
  },
  {
   "cell_type": "code",
   "execution_count": 11,
   "id": "710dc18c-d739-4a04-8be6-29e23bc15e3f",
   "metadata": {},
   "outputs": [],
   "source": [
    "# Returns theta0 and theta1 linear regression parameters\n",
    "#\n",
    "# h0(x) = Θ0 + Θ1*x\n",
    "#\n",
    "# PRE x.shape == y.shape\n",
    "#\n",
    "def linearRegressionv1(x, y):\n",
    "\n",
    "    m = len(x)\n",
    "    \n",
    "    meanX = 0\n",
    "    for i in range(m): \n",
    "        meanX += x[i]\n",
    "    meanX /= m\n",
    "\n",
    "    meanY = 0\n",
    "    for i in range(m): \n",
    "        meanY += y[i]\n",
    "    meanY /= m\n",
    "\n",
    "    #         m\n",
    "    #        ∑  (x(i) - x̄) * (y(i) - ȳ)  \n",
    "    # Θ1 =  -----------------------------\n",
    "    #            m\n",
    "    #           ∑  (x(i) - x̄) ** 2\n",
    "    num = 0\n",
    "    den = 0\n",
    "    for i in range(m): \n",
    "        num += (x[i] - meanX) * (y[i] - meanY)\n",
    "        den += (x[i] - meanX) ** 2\n",
    "        \n",
    "    theta1 = num / den      \n",
    "\n",
    "    # Linear regression 1 independent variable:\n",
    "    #        y = Θ0 + Θ1*x\n",
    "    #\n",
    "    # hypotesis:\n",
    "    #    h0(x) = Θ0 + Θ1*x\n",
    "    #\n",
    "    #       Θ0 = ȳ - Θ1 * x̄\n",
    "    theta0 = meanY - theta1 * meanX\n",
    "    \n",
    "    return theta0, theta1"
   ]
  },
  {
   "cell_type": "code",
   "execution_count": 12,
   "id": "ff4f1fdc-eecc-4feb-9484-a7048a22b981",
   "metadata": {},
   "outputs": [
    {
     "name": "stdout",
     "output_type": "stream",
     "text": [
      "Θ0 (intercept) = 0.802\n",
      "Θ1 (slope)     = 56.758\n"
     ]
    },
    {
     "data": {
      "image/png": "[encoded data removed]",
      "text/plain": [
       "<Figure size 640x480 with 1 Axes>"
      ]
     },
     "metadata": {},
     "output_type": "display_data"
    }
   ],
   "source": [
    "#Compute parameters\n",
    "theta0, theta1 = linearRegressionv1(x, y)\n",
    "\n",
    "plt.plot(x, y, \"x\", color = \"blue\")\n",
    "plt.axline((0, theta0), slope=theta1, color=\"red\", linewidth=2, label=f\"y = {theta1}x + {theta0}\")\n",
    "plt.show()\n",
    "\n",
    "print('Θ0 (intercept) = {:.3f}'.format(theta0))\n",
    "print('Θ1 (slope)     = {:.3f}'.format(theta1))"
   ]
  },
  {
   "cell_type": "markdown",
   "id": "93302831-8bfd-4bfc-ae0f-94b0bfc329b5",
   "metadata": {},
   "source": [
    "---\n",
    "Considering vectors $\\mathbf a$ and $\\mathbf b$, both with $n$ elements:\n",
    "\n",
    "$\\qquad \\mathbf{a} = \\begin{bmatrix}\n",
    "a_0 \\\\ a_1 \\\\ \\dots \\\\ a_{n-1}\n",
    "\\end{bmatrix}\n",
    "\\quad\\quad\n",
    "\\mathbf{b} = \\begin{bmatrix}\n",
    "b_0 \\\\ b_1 \\\\ \\dots \\\\ b_{n-1}\n",
    "\\end{bmatrix}$\n",
    "\n",
    "The dot product of both vectors can be computed with:\n",
    "\n",
    "$\\sum_{i=1}^{m} a_i * b_i$\n",
    "\n",
    "which can be expressed in vector notation as:\n",
    "\n",
    "$\\mathbf a^T \\mathbf b$"
   ]
  },
  {
   "cell_type": "markdown",
   "id": "31be6c29-3315-4871-9c5d-29af680f5050",
   "metadata": {},
   "source": [
    "This way, we can rewrite the expression for $\\theta_1$ in vector notation as shown below (note that vector variables are in **bold**):\n",
    "\n",
    "$$\\begin{split}\n",
    "\\theta_1 = \\frac {SS_{xy}}{SS_{xx}}\n",
    "&= \\frac\n",
    "{ \\sum_{i=1}^{m} \\left[\\left(x_i - \\bar {x}\\right) \\left(y_i - \\bar {y}\\right) \\right]}\n",
    "{ \\sum_{i=1}^{m} \\left( x_i - \\bar x \\right)^2 } \\\\\n",
    "\\\\\n",
    "&= \\frac \n",
    "{ \\left( \\mathbf{x} - \\bar{x} \\right)^T \\left( \\mathbf{y} - \\bar{y} \\right)}\n",
    "{ \\left( \\mathbf{x} - \\bar{x} \\right)^T \\left( \\mathbf{x} - \\bar{x} \\right) }\n",
    "\\end{split}$$\n"
   ]
  },
  {
   "cell_type": "markdown",
   "id": "89c84ccf-aa9f-490f-8f8e-f57b1b4823cf",
   "metadata": {},
   "source": [
    "When there is an operation where at least one of the operands is a vector or a matrix, even if the other is a scalar, use optimized **Numpy** functions like: \n",
    "- np.add(x,y)\n",
    "- np.multiply(x,y) \\\n",
    "$\\dots$\n",
    "\n",
    "To compute the dot procuct of 2 vectors, a vector and a matrix or matrices use:\n",
    "- np.dot(a,b)"
   ]
  },
  {
   "cell_type": "code",
   "execution_count": 9,
   "id": "50fc8994-94a9-40f4-aa4e-924d6f0f8aef",
   "metadata": {},
   "outputs": [],
   "source": [
    "# Returns theta0 and theta1 linear regression parameters\n",
    "#\n",
    "# h0(x) = Θ0 + Θ1*x\n",
    "#\n",
    "# PRE x.shape == y.shape\n",
    "#\n",
    "def linearRegressionv2(x, y):\n",
    "    meanX = np.mean(x)\n",
    "    meanY = np.mean(y)\n",
    "\n",
    "    #         m                                        T        \n",
    "    #        ∑  (x(i) - x̄) * (y(i) - ȳ)     ( x - x̄ ) . ( y - ȳ )\n",
    "    # Θ1 =  ----------------------------- = -------------------------\n",
    "    #            m                                     T\n",
    "    #           ∑  (x(i) - x̄) ** 2          ( x - x̄ ) . ( x - x̄ )\n",
    "    \n",
    "    m = len(x)   \n",
    "    xs = np.subtract(x, meanX)\n",
    "    ys = np.subtract(y, meanY)\n",
    "    num = np.dot(xs, ys)\n",
    "    den = np.dot(xs, xs)\n",
    "        \n",
    "    theta1 = num / den      \n",
    "\n",
    "    # Linear regression 1 independent variable:\n",
    "    #        y = Θ0 + Θ1*x\n",
    "    #\n",
    "    # hypotesis:\n",
    "    #    h0(x) = Θ0 + Θ1*x\n",
    "    #\n",
    "    #       Θ0 = ȳ - Θ1 * x̄\n",
    "    theta0 = meanY - theta1 * meanX\n",
    "    \n",
    "    return theta0, theta1"
   ]
  },
  {
   "cell_type": "code",
   "execution_count": 10,
   "id": "f9d7a320-c591-4528-8092-ca2a050f59b1",
   "metadata": {},
   "outputs": [
    {
     "name": "stdout",
     "output_type": "stream",
     "text": [
      "Θ0 (intercept) = 0.802\n",
      "Θ1 (slope)     = 56.758\n"
     ]
    }
   ],
   "source": [
    "#Compute parameters\n",
    "theta0, theta1 = linearRegressionv2(x, y)\n",
    "print('Θ0 (intercept) = {:.3f}'.format(theta0))\n",
    "print('Θ1 (slope)     = {:.3f}'.format(theta1))"
   ]
  },
  {
   "cell_type": "markdown",
   "id": "81966a8a-2f0e-4087-8209-12ad51509ca4",
   "metadata": {},
   "source": [
    "---\n",
    "Note that $\\theta_0$ and $\\theta_1$ are the elements of vector $\\boldsymbol{\\theta}$ for single linear regression.\n",
    "\n",
    "For multivariate regression $\\boldsymbol{\\theta}$ have $n$ parameters, where $n \\ge 2 $."
   ]
  }
 ],
 "metadata": {
  "kernelspec": {
   "display_name": "Python 3 (ipykernel)",
   "language": "python",
   "name": "python3"
  },
  "language_info": {
   "codemirror_mode": {
    "name": "ipython",
    "version": 3
   },
   "file_extension": ".py",
   "mimetype": "text/x-python",
   "name": "python",
   "nbconvert_exporter": "python",
   "pygments_lexer": "ipython3",
   "version": "3.13.7"
  }
 },
 "nbformat": 4,
 "nbformat_minor": 5
}
